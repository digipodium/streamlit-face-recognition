{
 "cells": [
  {
   "cell_type": "code",
   "execution_count": 3,
   "metadata": {},
   "outputs": [],
   "source": [
    "from imutils import paths\n",
    "import face_recognition\n",
    "import pickle\n",
    "import cv2\n",
    "import os\n",
    "import imutils\n",
    "import time"
   ]
  },
  {
   "cell_type": "code",
   "execution_count": 1,
   "metadata": {},
   "outputs": [],
   "source": [
    "def save_ur_images(person=\"zaid\",designation=\"developer\"):\n",
    "    cap = cv2.VideoCapture(0)\n",
    "    count = 0\n",
    "    folder = f'images/{person}_{\"_\".join(designation.split())}'\n",
    "    print('saving to:',folder)\n",
    "    if not os.path.exists(folder):\n",
    "        os.makedirs(folder)\n",
    "    while True:\n",
    "        ret, frame = cap.read()\n",
    "        # add a text for saving image\n",
    "        cv2.putText(frame, f'Press \"s\" to save image', (10, 20), cv2.FONT_HERSHEY_SIMPLEX, 0.5, (255, 255, 0), 1)\n",
    "        cv2.putText(frame, f'Press \"q\" to quit', (10, 40), cv2.FONT_HERSHEY_SIMPLEX, 0.5, (0, 0, 0), 1)\n",
    "        cv2.imshow(\"Capturing\", frame)\n",
    "        key = cv2.waitKey(1)\n",
    "        if key == ord('s'):\n",
    "            cv2.imwrite(f\"{folder}/{person}_{count}.jpg\", frame)\n",
    "            count += 1\n",
    "        if key == ord('q'):\n",
    "            break\n",
    "    cv2.destroyAllWindows()\n",
    "    cap.release()"
   ]
  },
  {
   "cell_type": "code",
   "execution_count": 4,
   "metadata": {},
   "outputs": [],
   "source": [
    "save_ur_images(\"shavez\",'coder')"
   ]
  },
  {
   "cell_type": "code",
   "execution_count": 5,
   "metadata": {},
   "outputs": [],
   "source": [
    "def save_face_encodings(model='hog'):\n",
    "    \n",
    "    file_encoding = f'encodings/faces'\n",
    "    if not os.path.exists('encodings'):\n",
    "        os.makedirs('encodings')\n",
    "    imagePaths = list(paths.list_images(f'images'))\n",
    "    knownEncodings = []\n",
    "    knownNames = []\n",
    "    # loop over the image paths\n",
    "    for (i, imagePath) in enumerate(imagePaths):\n",
    "        # extract the person name from the image path\n",
    "        name = imagePath.split('\\\\')[1]\n",
    "        print(f'[INFO] processing image {i + 1}/{len(imagePaths)}: {name}')\n",
    "        # print(imagePath,name)\n",
    "        # load the input image and convert it from BGR (OpenCV ordering) to dlib ordering (RGB)\n",
    "        image = cv2.imread(imagePath)\n",
    "        rgb = cv2.cvtColor(image, cv2.COLOR_BGR2RGB)\n",
    "        #Use Face_recognition to locate faces\n",
    "        boxes = face_recognition.face_locations(rgb,model=model)\n",
    "        # compute the facial embedding for the face\n",
    "        encodings = face_recognition.face_encodings(rgb, boxes)\n",
    "        # loop over the encodings\n",
    "        for encoding in encodings:\n",
    "            knownEncodings.append(encoding)\n",
    "            knownNames.append(name)\n",
    "    #save emcodings along with their names in dictionary data\n",
    "    data = {\"encodings\": knownEncodings, \"names\": knownNames}\n",
    "    #use pickle to save data into a file for later use\n",
    "    f = open(file_encoding, \"wb\")\n",
    "    f.write(pickle.dumps(data))\n",
    "    f.close()\n",
    "    return file_encoding"
   ]
  },
  {
   "cell_type": "code",
   "execution_count": 10,
   "metadata": {},
   "outputs": [],
   "source": [
    "def start_camera(encoding):\n",
    "    # load the known faces and embeddings saved in last file\n",
    "    data = pickle.loads(open(encoding, \"rb\").read())\n",
    "\n",
    "    #find path of xml file containing haarcascade file \n",
    "    cascPathface = os.path.dirname(cv2.__file__) + \"/data/haarcascade_frontalface_alt2.xml\"\n",
    "    # load the harcaascade in the cascade classifier\n",
    "    faceCascade = cv2.CascadeClassifier(cascPathface)\n",
    "\n",
    "    video_capture = cv2.VideoCapture(0)\n",
    "    # loop over frames from the video file stream\n",
    "    print(\"Streaming started\")\n",
    "    while True:\n",
    "        # grab the frame from the threaded video stream\n",
    "        ret, frame = video_capture.read()\n",
    "        gray = cv2.cvtColor(frame, cv2.COLOR_BGR2GRAY)\n",
    "        faces = faceCascade.detectMultiScale(gray,\n",
    "                                            scaleFactor=1.1,\n",
    "                                            minNeighbors=5,\n",
    "                                            minSize=(60, 60),\n",
    "                                            flags=cv2.CASCADE_SCALE_IMAGE)\n",
    "    \n",
    "        # convert the input frame from BGR to RGB \n",
    "        rgb = cv2.cvtColor(frame, cv2.COLOR_BGR2RGB)\n",
    "        # the facial embeddings for face in input\n",
    "        encodings = face_recognition.face_encodings(rgb)\n",
    "        names = []\n",
    "        # loop over the facial embeddings incase\n",
    "        # we have multiple embeddings for multiple fcaes\n",
    "        for encoding in encodings:\n",
    "        #Compare encodings with encodings in data[\"encodings\"]\n",
    "        #Matches contain array with boolean values and True for the embeddings it matches closely\n",
    "        #and False for rest\n",
    "            matches = face_recognition.compare_faces(data[\"encodings\"],\n",
    "            encoding)\n",
    "            #set name =inknown if no encoding matches\n",
    "            name = \"Unknown_unknown\"\n",
    "            # check to see if we have found a match\n",
    "            if True in matches:\n",
    "                #Find positions at which we get True and store them\n",
    "                matchedIdxs = [i for (i, b) in enumerate(matches) if b]\n",
    "                counts = {}\n",
    "                # loop over the matched indexes and maintain a count for\n",
    "                # each recognized face face\n",
    "                for i in matchedIdxs:\n",
    "                    #Check the names at respective indexes we stored in matchedIdxs\n",
    "                    name = data[\"names\"][i]\n",
    "                    #increase count for the name we got\n",
    "                    counts[name] = counts.get(name, 0) + 1\n",
    "                #set name which has highest count\n",
    "                name = max(counts, key=counts.get)\n",
    "    \n",
    "    \n",
    "            # update the list of names\n",
    "            names.append(name)\n",
    "            # loop over the recognized faces\n",
    "            for ((x, y, w, h), name) in zip(faces, names):\n",
    "                # rescale the face coordinates\n",
    "                # draw the predicted face name on the image\n",
    "                try:\n",
    "                    n,d = name.split('_')\n",
    "                    cv2.rectangle(frame, (x, y), (x + w, y + h), (0, 255, 0), 3)\n",
    "                    cv2.putText(frame, f'Person: {n.upper()}', (10, 30), cv2.FONT_HERSHEY_SIMPLEX,0.75, (0, 255, 255), 2)\n",
    "                    cv2.putText(frame, f'Designation: {d.lower()}', (10, 50), cv2.FONT_HERSHEY_SIMPLEX,.5, (0, 255, 255), 1)\n",
    "                except:\n",
    "                    pass\n",
    "        cv2.imshow(\"Frame\", frame)\n",
    "        if cv2.waitKey(1) & 0xFF == ord('q'):\n",
    "            break\n",
    "    video_capture.release()\n",
    "    cv2.destroyAllWindows()\n"
   ]
  },
  {
   "cell_type": "code",
   "execution_count": 2,
   "metadata": {},
   "outputs": [],
   "source": [
    "def delete_dir(dir):\n",
    "    import shutil\n",
    "    dir = f'images/{dir}'\n",
    "    if os.path.exists(dir):\n",
    "        try:\n",
    "            shutil.rmtree(dir)\n",
    "            return True\n",
    "        except:\n",
    "            return False\n",
    "    else:\n",
    "        return False"
   ]
  },
  {
   "cell_type": "code",
   "execution_count": 7,
   "metadata": {},
   "outputs": [],
   "source": [
    "save_ur_images()"
   ]
  },
  {
   "cell_type": "code",
   "execution_count": 8,
   "metadata": {},
   "outputs": [
    {
     "name": "stdout",
     "output_type": "stream",
     "text": [
      "[INFO] processing image 1/19: musk_entrepreneur\n",
      "[INFO] processing image 2/19: musk_entrepreneur\n",
      "[INFO] processing image 3/19: musk_entrepreneur\n",
      "[INFO] processing image 4/19: musk_entrepreneur\n",
      "[INFO] processing image 5/19: musk_entrepreneur\n",
      "[INFO] processing image 6/19: musk_entrepreneur\n",
      "[INFO] processing image 7/19: musk_entrepreneur\n",
      "[INFO] processing image 8/19: musk_entrepreneur\n",
      "[INFO] processing image 9/19: musk_entrepreneur\n",
      "[INFO] processing image 10/19: musk_entrepreneur\n",
      "[INFO] processing image 11/19: musk_entrepreneur\n",
      "[INFO] processing image 12/19: musk_entrepreneur\n",
      "[INFO] processing image 13/19: musk_entrepreneur\n",
      "[INFO] processing image 14/19: zaid_developer\n",
      "[INFO] processing image 15/19: zaid_developer\n",
      "[INFO] processing image 16/19: zaid_developer\n",
      "[INFO] processing image 17/19: zaid_developer\n",
      "[INFO] processing image 18/19: zaid_developer\n",
      "[INFO] processing image 19/19: zaid_developer\n"
     ]
    }
   ],
   "source": [
    "encoding = save_face_encodings()"
   ]
  },
  {
   "cell_type": "code",
   "execution_count": 11,
   "metadata": {},
   "outputs": [
    {
     "name": "stdout",
     "output_type": "stream",
     "text": [
      "Streaming started\n"
     ]
    }
   ],
   "source": [
    "start_camera(encoding)"
   ]
  },
  {
   "cell_type": "code",
   "execution_count": null,
   "metadata": {},
   "outputs": [],
   "source": []
  }
 ],
 "metadata": {
  "interpreter": {
   "hash": "c0995d1a41d85bec1f76e008ce6e946a9b90642749505e5fd25330b243e6f071"
  },
  "kernelspec": {
   "display_name": "Python 3.9.12 (conda)",
   "language": "python",
   "name": "python3"
  },
  "language_info": {
   "codemirror_mode": {
    "name": "ipython",
    "version": 3
   },
   "file_extension": ".py",
   "mimetype": "text/x-python",
   "name": "python",
   "nbconvert_exporter": "python",
   "pygments_lexer": "ipython3",
   "version": "3.9.12"
  },
  "orig_nbformat": 4
 },
 "nbformat": 4,
 "nbformat_minor": 2
}
